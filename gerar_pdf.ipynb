{
 "cells": [
  {
   "cell_type": "code",
   "execution_count": 4,
   "id": "0ede133d-ab9f-4994-b00f-3629e6d7d113",
   "metadata": {},
   "outputs": [
    {
     "name": "stdin",
     "output_type": "stream",
     "text": [
      "Qaul é a descrição do projeto?  Desenvolvimento em Python\n",
      "Estimativa de horas para o finalizar o projeto:  60\n",
      "Valor da hora trabalhada:  120\n",
      "Qual o prazo de entrega?  2 meses\n"
     ]
    }
   ],
   "source": [
    "descricao_projeto = input('Qaul é a descrição do projeto? ')\n",
    "\n",
    "horas_estimadas = input('Estimativa de horas para o finalizar o projeto: ')\n",
    "\n",
    "valor_hora = input('Valor da hora trabalhada: ')\n",
    "\n",
    "prazo_entrega = input('Qual o prazo de entrega? ')\n"
   ]
  },
  {
   "cell_type": "code",
   "execution_count": 11,
   "id": "78500ef2-86b9-4871-80b9-5650e9ee9129",
   "metadata": {},
   "outputs": [],
   "source": [
    "total = int(horas_estimadas) * int(valor_hora)"
   ]
  },
  {
   "cell_type": "markdown",
   "id": "4a310eb5-3310-40b4-8a8d-82174a6c9ade",
   "metadata": {},
   "source": [
    "# Gerar PDF"
   ]
  },
  {
   "cell_type": "code",
   "execution_count": 1,
   "id": "13397d1a-e938-4701-b7f9-d6764546cfe3",
   "metadata": {
    "scrolled": true
   },
   "outputs": [
    {
     "name": "stdout",
     "output_type": "stream",
     "text": [
      "Collecting fpdf\n",
      "  Downloading fpdf-1.7.2.tar.gz (39 kB)\n",
      "  Preparing metadata (setup.py): started\n",
      "  Preparing metadata (setup.py): finished with status 'done'\n",
      "Building wheels for collected packages: fpdf\n",
      "  Building wheel for fpdf (setup.py): started\n",
      "  Building wheel for fpdf (setup.py): finished with status 'done'\n",
      "  Created wheel for fpdf: filename=fpdf-1.7.2-py2.py3-none-any.whl size=40713 sha256=cca80396ec1ce582eeef6f63ed0ba84e513295d3c7238aa1a58dc5baa575b687\n",
      "  Stored in directory: c:\\users\\admin\\appdata\\local\\pip\\cache\\wheels\\65\\4f\\66\\bbda9866da446a72e206d6484cd97381cbc7859a7068541c36\n",
      "Successfully built fpdf\n",
      "Installing collected packages: fpdf\n",
      "Successfully installed fpdf-1.7.2\n"
     ]
    }
   ],
   "source": [
    "!pip install fpdf"
   ]
  },
  {
   "cell_type": "code",
   "execution_count": 1,
   "id": "7c22833c-1009-4f98-ba83-dc908bc7d07a",
   "metadata": {},
   "outputs": [],
   "source": [
    "from fpdf import FPDF"
   ]
  },
  {
   "cell_type": "code",
   "execution_count": 12,
   "id": "b331f58a-a806-4f84-82a9-eee196b4aef8",
   "metadata": {},
   "outputs": [
    {
     "name": "stdout",
     "output_type": "stream",
     "text": [
      "Orçamento gerado com sucesso!\n"
     ]
    }
   ],
   "source": [
    "pdf = FPDF()\n",
    "\n",
    "pdf.add_page()\n",
    "pdf.set_font('Arial')\n",
    "\n",
    "pdf.image('template.png', x=0, y=0)\n",
    "\n",
    "pdf.text(115, 145, descricao_projeto)\n",
    "\n",
    "pdf.text(115, 160, horas_estimadas)\n",
    "\n",
    "pdf.text(115, 175, valor_hora)\n",
    "\n",
    "pdf.text(115, 190, prazo_entrega)\n",
    "\n",
    "pdf.text(115, 205, str(total))\n",
    "\n",
    "pdf.output('orçamento.pdf')\n",
    "\n",
    "print('Orçamento gerado com sucesso!')"
   ]
  },
  {
   "cell_type": "code",
   "execution_count": null,
   "id": "4eaf8cc8-89c1-45ea-8768-ab0c089314a5",
   "metadata": {},
   "outputs": [],
   "source": []
  }
 ],
 "metadata": {
  "kernelspec": {
   "display_name": "Python 3 (ipykernel)",
   "language": "python",
   "name": "python3"
  },
  "language_info": {
   "codemirror_mode": {
    "name": "ipython",
    "version": 3
   },
   "file_extension": ".py",
   "mimetype": "text/x-python",
   "name": "python",
   "nbconvert_exporter": "python",
   "pygments_lexer": "ipython3",
   "version": "3.11.7"
  }
 },
 "nbformat": 4,
 "nbformat_minor": 5
}
